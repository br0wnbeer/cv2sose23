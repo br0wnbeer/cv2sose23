{
 "cells": [
  {
   "cell_type": "code",
   "execution_count": 91,
   "metadata": {},
   "outputs": [],
   "source": [
    "from PIL import Image\n",
    "import numpy as np\n",
    "import math\n",
    "np.random.seed(seed=2023)"
   ]
  },
  {
   "cell_type": "code",
   "execution_count": 92,
   "metadata": {},
   "outputs": [],
   "source": [
    "# convert a RGB image to grayscale\n",
    "# input (rgb): numpy array of shape (H, W, 3)\n",
    "# output (gray): numpy array of shape (H, W)\n",
    "\n",
    "\n",
    "def rgb2gray(rgb):\n",
    "    ##############################################################################################\n",
    "    #\t\t\t\t\t\t\t\t\t\tIMPLEMENT\t\t\t\t\t\t\t\t\t\t\t #\n",
    "    ##############################################################################################\n",
    "    r, g, b = rgb[:,:,0], rgb[:,:,1], rgb[:,:,2]\n",
    "    gray = 0.1913 * r + 0.4815 * g + 0.3272 * b\n",
    "    \n",
    "    return gray"
   ]
  },
  {
   "cell_type": "code",
   "execution_count": 93,
   "metadata": {},
   "outputs": [],
   "source": [
    "# load the data\n",
    "# input (i0_path): path to the first image\n",
    "# input (i1_path): path to the second image\n",
    "# input (gt_path): path to the disparity image\n",
    "# output (i_0): numpy array of shape (H, W, 3)\n",
    "# output (i_1): numpy array of shape (H, W, 3)\n",
    "# output (g_t): numpy array of shape (H, W)\n",
    "\n",
    "\n",
    "def load_data(i0_path, i1_path, gt_path):\n",
    "\n",
    "    ##############################################################################################\n",
    "    #\t\t\t\t\t\t\t\t\t\tIMPLEMENT\t\t\t\t\t\t\t\t\t\t\t #\n",
    "    ##############################################################################################\n",
    "    i_0 = np.array(Image.open(i0_path), dtype = np.float64) / 255\n",
    "    i_1 = np.array(Image.open(i1_path), dtype = np.float64) / 255\n",
    "    g_t = np.array(Image.open(gt_path),dtype = np.float64)\n",
    "\n",
    "    return i_0, i_1, g_t"
   ]
  },
  {
   "cell_type": "code",
   "execution_count": 94,
   "metadata": {},
   "outputs": [],
   "source": [
    "# image to the size of the non-zero elements of disparity map\n",
    "# input (img): numpy array of shape (H, W)\n",
    "# input (d): numpy array of shape (H, W)\n",
    "# output (img_crop): numpy array of shape (H', W')\n",
    "\n",
    "\n",
    "def crop_image(img, d):\n",
    "\n",
    "    ##############################################################################################\n",
    "    #\t\t\t\t\t\t\t\t\t\tIMPLEMENT\t\t\t\t\t\t\t\t\t\t\t #\n",
    "    ##############################################################################################\n",
    "    x_min, x_max = np.min(np.nonzero(d)[0]), np.max(np.nonzero(d)[0])\n",
    "    y_min, y_max = np.min(np.nonzero(d)[1]), np.max(np.nonzero(d)[1])\n",
    "    img_crop = img[x_min:x_max , y_min:y_max]\n",
    "    \n",
    "    return img_crop\n",
    "\n"
   ]
  },
  {
   "cell_type": "code",
   "execution_count": 95,
   "metadata": {},
   "outputs": [],
   "source": [
    "# shift all pixels of i1 by the value of the disparity map\n",
    "# input (i_1): numpy array of shape (H, W)\n",
    "# input (d): numpy array of shape (H, W)\n",
    "# output (i_d): numpy array of shape (H, W)\n",
    "\n",
    "\n",
    "def shift_disparity(i_1, d):\n",
    "    i_d = np.zeros_like(i_1)\n",
    "    for index, x in np.ndenumerate(d):\n",
    "        i_d[index] = i_1[(index[0],index[1]+int(d[index]))] \n",
    "        \n",
    "    ##############################################################################################\n",
    "    #\t\t\t\t\t\t\t\t\t\tIMPLEMENT\t\t\t\t\t\t\t\t\t\t\t #\n",
    "    ##############################################################################################\n",
    "    \n",
    "    return i_d"
   ]
  },
  {
   "cell_type": "code",
   "execution_count": 96,
   "metadata": {},
   "outputs": [],
   "source": [
    "# compute the negative log of the Gaussian likelihood\n",
    "# input (i_0): numpy array of shape (H, W)\n",
    "# input (i_1_d): numpy array of shape (H, W)\n",
    "# input (mu): float\n",
    "# input (sigma): float\n",
    "# output (nll): numpy scalar of shape ()\n",
    "\n",
    "\n",
    "def gaussian_nllh(i_0, i_1_d, mu, sigma):\n",
    "    N , M =  i_0.shape\n",
    "    nll =  (1/(2*(np.power(sigma,2))) ) * np.sum(np.power(i_0 - i_1_d - mu,2))\n",
    "    # We can probably irgnore the constant \n",
    "    const = N*M*np.log(2*np.pi*sigma)\n",
    "        \n",
    "    return nll"
   ]
  },
  {
   "cell_type": "code",
   "execution_count": 97,
   "metadata": {},
   "outputs": [],
   "source": [
    "# compute the negative log of the Laplacian likelihood\n",
    "# input (i_0): numpy array of shape (H, W)\n",
    "# input (i_1_d): numpy array of shape (H, W)\n",
    "# input (mu): float\n",
    "# input (s): float\n",
    "# output (nll): numpy scalar of shape ()\n",
    "\n",
    "\n",
    "def laplacian_nllh(i_0, i_1_d, mu,s):\n",
    "    N,M  = i_0.shape\n",
    "    nll = np.sum(np.absolute(i_0-i_1_d-mu)) * 1/s \n",
    "    const = N*M*np.log(1/2*s)\n",
    "    \n",
    "    return nll"
   ]
  },
  {
   "cell_type": "code",
   "execution_count": 98,
   "metadata": {},
   "outputs": [],
   "source": [
    "# replace p% of the image pixels with values from a normal distribution\n",
    "# input (img): numpy array of shape (H, W)\n",
    "# input (p): float\n",
    "# output (img_noise): numpy array of shape (H, W)\n",
    "\n",
    "\n",
    "def make_noise(img, p):\n",
    "    w, h = img.shape\n",
    "    img = img.flatten()\n",
    "    chosen_indexes = np.random.choice(img.shape[0], int(img.shape[0] * p) )\n",
    "    rand_vals = np.random.normal(0.45, 0.14, size= int(img.shape[0] * p))\n",
    "    img[chosen_indexes] = rand_vals\n",
    "    img_noise = img.reshape(w, h)\n",
    "    \n",
    "    return img_noise"
   ]
  },
  {
   "cell_type": "code",
   "execution_count": 99,
   "metadata": {},
   "outputs": [],
   "source": [
    "# apply noise to i1_sh and return the values of the negative lok-likelihood for both likelihood models with mu, sigma, and s\n",
    "# input (i0): numpy array of shape (H, W)\n",
    "# input (i1_sh): numpy array of shape (H, W)\n",
    "# input (noise): float\n",
    "# input (mu): float\n",
    "# input (sigma): float\n",
    "# input (s): float\n",
    "# output (gnllh) - gaussian negative log-likelihood: numpy scalar of shape ()\n",
    "# output (lnllh) - laplacian negative log-likelihood: numpy scalar of shape ()\n",
    "def get_nllh_for_corrupted(i_0, i_1_d, noise, mu, sigma, s):\n",
    "\n",
    "\t# Make noisy img \n",
    "\timg_noise = make_noise(i_1_d, noise)\n",
    "\n",
    "\t# Gaussian and Laplacian likelihood\n",
    "\tgnllh = gaussian_nllh(i_0, img_noise, mu, sigma)\n",
    "\tlnllh = laplacian_nllh(i_0, img_noise, mu, s)\n",
    "\n",
    "\treturn gnllh, lnllh"
   ]
  },
  {
   "cell_type": "code",
   "execution_count": 100,
   "metadata": {},
   "outputs": [
    {
     "name": "stdout",
     "output_type": "stream",
     "text": [
      "Noise :  0.0\n",
      "GNLLH : 2769.4223002143235\n",
      "LNLLH : 6935.5953658263315\n",
      "Noise :  14.0\n",
      "GNLLH : 8373.638926871541\n",
      "LNLLH : 16598.826665762947\n",
      "Noise :  27.0\n",
      "GNLLH : 8354.685654009027\n",
      "LNLLH : 16586.665411960224\n"
     ]
    }
   ],
   "source": [
    "# load images\n",
    "i0, i1, gt = load_data('./data/i0.png', './data/i1.png', './data/gt.png')\n",
    "i0, i1 = rgb2gray(i0), rgb2gray(i1)\n",
    "# shift i1\n",
    "i1_sh = shift_disparity(i1, gt)\n",
    "\n",
    "# crop images\n",
    "i0 = crop_image(i0, gt)\n",
    "i1_sh = crop_image(i1_sh, gt)\n",
    "\n",
    "mu = 0.0\n",
    "sigma = 1.4\n",
    "s = 1.4\n",
    "for noise in [0.0, 14.0, 27.0]:\n",
    "    print(\"Noise : \" , noise)\n",
    "    gnllh, lnllh = get_nllh_for_corrupted(i0, i1_sh, noise, mu, sigma, s)\n",
    "    print(\"GNLLH :\" , gnllh)\n",
    "    print(\"LNLLH :\" , lnllh)"
   ]
  },
  {
   "cell_type": "code",
   "execution_count": 101,
   "metadata": {},
   "outputs": [
    {
     "data": {
      "text/plain": [
       "array([[9., 9., 9., ..., 9., 9., 9.],\n",
       "       [9., 9., 9., ..., 9., 9., 9.],\n",
       "       [9., 9., 9., ..., 9., 9., 9.],\n",
       "       ...,\n",
       "       [9., 9., 9., ..., 9., 9., 9.],\n",
       "       [9., 9., 9., ..., 9., 9., 9.],\n",
       "       [9., 9., 9., ..., 9., 9., 9.]])"
      ]
     },
     "execution_count": 101,
     "metadata": {},
     "output_type": "execute_result"
    }
   ],
   "source": [
    "import matplotlib.pyplot as plt \n",
    "\n",
    "np.power(gt + 3, 2)\n",
    "# shift i1\n",
    "#i1_sh = shift_disparity(i1, gt)"
   ]
  },
  {
   "cell_type": "code",
   "execution_count": 102,
   "metadata": {},
   "outputs": [
    {
     "data": {
      "text/plain": [
       "(288, 384)"
      ]
     },
     "execution_count": 102,
     "metadata": {},
     "output_type": "execute_result"
    }
   ],
   "source": [
    "gt.shape\n"
   ]
  },
  {
   "cell_type": "code",
   "execution_count": 103,
   "metadata": {},
   "outputs": [
    {
     "name": "stdout",
     "output_type": "stream",
     "text": [
      "18 269\n"
     ]
    }
   ],
   "source": [
    "a,b = np.min(np.nonzero(gt)[0]), np.max(np.nonzero(gt)[0])\n",
    "print(a ,b )"
   ]
  },
  {
   "cell_type": "code",
   "execution_count": 104,
   "metadata": {},
   "outputs": [
    {
     "ename": "IndexError",
     "evalue": "arrays used as indices must be of integer (or boolean) type",
     "output_type": "error",
     "traceback": [
      "\u001b[1;31m---------------------------------------------------------------------------\u001b[0m",
      "\u001b[1;31mIndexError\u001b[0m                                Traceback (most recent call last)",
      "\u001b[1;32m~\\AppData\\Local\\Temp\\ipykernel_30532\\3622396975.py\u001b[0m in \u001b[0;36m<module>\u001b[1;34m\u001b[0m\n\u001b[1;32m----> 1\u001b[1;33m \u001b[0mplt\u001b[0m\u001b[1;33m.\u001b[0m\u001b[0mimshow\u001b[0m\u001b[1;33m(\u001b[0m\u001b[0mi0\u001b[0m\u001b[1;33m[\u001b[0m\u001b[1;33m:\u001b[0m\u001b[1;33m,\u001b[0m\u001b[0mnp\u001b[0m\u001b[1;33m.\u001b[0m\u001b[0marange\u001b[0m\u001b[1;33m(\u001b[0m\u001b[1;36m0\u001b[0m\u001b[1;33m,\u001b[0m \u001b[0mgt\u001b[0m\u001b[1;33m.\u001b[0m\u001b[0mshape\u001b[0m\u001b[1;33m[\u001b[0m\u001b[1;36m1\u001b[0m\u001b[1;33m]\u001b[0m\u001b[1;33m,\u001b[0m \u001b[1;36m1\u001b[0m\u001b[1;33m,\u001b[0m \u001b[0mdtype\u001b[0m\u001b[1;33m=\u001b[0m\u001b[0mint\u001b[0m\u001b[1;33m)\u001b[0m\u001b[1;33m+\u001b[0m \u001b[0mgt\u001b[0m\u001b[1;33m[\u001b[0m\u001b[1;33m:\u001b[0m\u001b[1;33m]\u001b[0m\u001b[1;33m]\u001b[0m\u001b[1;33m)\u001b[0m\u001b[1;33m\u001b[0m\u001b[1;33m\u001b[0m\u001b[0m\n\u001b[0m",
      "\u001b[1;31mIndexError\u001b[0m: arrays used as indices must be of integer (or boolean) type"
     ]
    }
   ],
   "source": [
    "plt.imshow(i0[:,np.arange(0, gt.shape[1], 1, dtype=int)+ gt[:]])"
   ]
  },
  {
   "cell_type": "code",
   "execution_count": null,
   "metadata": {},
   "outputs": [
    {
     "data": {
      "text/plain": [
       "8"
      ]
     },
     "execution_count": 41,
     "metadata": {},
     "output_type": "execute_result"
    }
   ],
   "source": [
    "gt[222,222]"
   ]
  },
  {
   "cell_type": "code",
   "execution_count": null,
   "metadata": {},
   "outputs": [
    {
     "data": {
      "text/plain": [
       "14.0"
      ]
     },
     "execution_count": 74,
     "metadata": {},
     "output_type": "execute_result"
    }
   ],
   "source": [
    "gt.max()"
   ]
  },
  {
   "cell_type": "code",
   "execution_count": null,
   "metadata": {},
   "outputs": [],
   "source": []
  }
 ],
 "metadata": {
  "kernelspec": {
   "display_name": "CVI",
   "language": "python",
   "name": "python3"
  },
  "language_info": {
   "codemirror_mode": {
    "name": "ipython",
    "version": 3
   },
   "file_extension": ".py",
   "mimetype": "text/x-python",
   "name": "python",
   "nbconvert_exporter": "python",
   "pygments_lexer": "ipython3",
   "version": "3.8.16"
  },
  "orig_nbformat": 4
 },
 "nbformat": 4,
 "nbformat_minor": 2
}
